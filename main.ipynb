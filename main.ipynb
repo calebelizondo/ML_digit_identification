{
 "cells": [
  {
   "cell_type": "markdown",
   "metadata": {},
   "source": [
    "We will train two different models. One cnn will use the written digit training data to predict the label, while the other, an rnn, will use the spoken audio data to do the same. To make our final predictions, we will use the model which exhibits the highest confidence for each guess. We will procede first by training the cnn: "
   ]
  },
  {
   "cell_type": "code",
   "execution_count": 5,
   "metadata": {},
   "outputs": [],
   "source": [
    "import numpy as np\n",
    "import pandas as pd\n",
    "import matplotlib.pyplot as plt\n",
    "import random\n",
    "from sklearn.model_selection import train_test_split\n",
    "import torch\n",
    "from torch.utils.data import DataLoader, Dataset, TensorDataset\n",
    "from torchvision import datasets, transforms\n",
    "import torch.nn as nn\n",
    "import torch.optim as optim\n",
    "from tqdm import tqdm\n",
    "from sklearn.metrics import f1_score"
   ]
  },
  {
   "cell_type": "code",
   "execution_count": 6,
   "metadata": {},
   "outputs": [
    {
     "data": {
      "text/plain": [
       "<Axes: >"
      ]
     },
     "execution_count": 6,
     "metadata": {},
     "output_type": "execute_result"
    },
    {
     "data": {
      "image/png": "[encoded data removed]",
      "text/plain": [
       "<Figure size 640x480 with 1 Axes>"
      ]
     },
     "metadata": {},
     "output_type": "display_data"
    }
   ],
   "source": [
    "#get labels, explore distribution\n",
    "training_labels = pd.read_csv(\"data/y_train.csv\")[\"label\"]\n",
    "training_labels.hist()"
   ]
  },
  {
   "cell_type": "code",
   "execution_count": 7,
   "metadata": {},
   "outputs": [],
   "source": [
    "#custom dataset wrapper\n",
    "class CustomDataset(Dataset):\n",
    "    def __init__(self, data_file, labels_file=None, is_test=False):\n",
    "        self.data = np.load(data_file)\n",
    "        if not is_test:\n",
    "            self.labels = pd.read_csv(labels_file)[\"label\"]\n",
    "        else:\n",
    "            self.labels = None\n",
    "    \n",
    "    def __len__(self):\n",
    "        return len(self.data)\n",
    "    \n",
    "    def __getitem__(self, idx):\n",
    "        if self.labels is not None:\n",
    "            sample = {\n",
    "                'data': torch.tensor(self.data[idx].reshape(1, 28, 28), dtype=torch.float),\n",
    "                'label': torch.tensor(self.labels[idx], dtype=torch.long)\n",
    "            }\n",
    "        else:\n",
    "            sample = {\n",
    "                'data': torch.tensor(self.data[idx].reshape(1, 28, 28), dtype=torch.float)\n",
    "            }\n",
    "        return sample\n",
    "\n",
    "\n",
    "def get_data_loaders(data_file, labels_file, batch_size=64, validation_size=0.2):\n",
    "    dataset = CustomDataset(data_file, labels_file)\n",
    "    \n",
    "    #split dataset into training and validation sets\n",
    "    train_indices, val_indices = train_test_split(\n",
    "        np.arange(len(dataset)),\n",
    "        test_size=validation_size,\n",
    "        random_state=21,\n",
    "        stratify=dataset.labels  \n",
    "    )\n",
    "    \n",
    "    train_loader = DataLoader(\n",
    "        dataset,\n",
    "        batch_size=batch_size,\n",
    "        sampler=torch.utils.data.SubsetRandomSampler(train_indices)\n",
    "    )\n",
    "    \n",
    "    val_loader = DataLoader(\n",
    "        dataset,\n",
    "        batch_size=batch_size,\n",
    "        sampler=torch.utils.data.SubsetRandomSampler(val_indices)\n",
    "    )\n",
    "    \n",
    "    return train_loader, val_loader"
   ]
  },
  {
   "cell_type": "code",
   "execution_count": 8,
   "metadata": {},
   "outputs": [],
   "source": [
    "img_dataset = CustomDataset(\"data/x_train_wr.npy\", \"data/y_train.csv\")"
   ]
  },
  {
   "cell_type": "code",
   "execution_count": 9,
   "metadata": {},
   "outputs": [],
   "source": [
    "#custom cnn implementation\n",
    "#CNN implementation\n",
    "\n",
    "class cnn_block(nn.Module):\n",
    "  def __init__(self, in_channels = 3, n_hidden = 5, kernel_size = (2, 2)):\n",
    "    super().__init__()\n",
    "    self.layers = nn.Sequential(\n",
    "        nn.Conv2d(in_channels       = in_channels, out_channels = n_hidden, kernel_size = kernel_size, bias=False, padding = 'same'),\n",
    "        nn.BatchNorm2d(num_features = n_hidden),\n",
    "        nn.ReLU(),\n",
    "        nn.Dropout(p=0.2),\n",
    "        nn.Conv2d(in_channels       = n_hidden, out_channels = in_channels, kernel_size = kernel_size, bias=False, padding = 'same'),\n",
    "        nn.BatchNorm2d(num_features = in_channels),\n",
    "        nn.ReLU(),\n",
    "        nn.Dropout(p=0.2))\n",
    "\n",
    "  def forward(self, x):\n",
    "    return x + self.layers(x)\n",
    "\n",
    "\n",
    "class linear_block(nn.Module):\n",
    "  def __init__(self, in_features, n_hidden):\n",
    "    super().__init__()\n",
    "    self.in_features = (in_features, n_hidden)\n",
    "    self.layers = nn.Sequential(\n",
    "        nn.Linear(in_features = in_features, out_features = n_hidden),\n",
    "        nn.ReLU(),\n",
    "        nn.Dropout(p=0.2),\n",
    "        nn.Linear(in_features = n_hidden, out_features = in_features),\n",
    "        nn.ReLU()\n",
    "    )\n",
    "\n",
    "  def forward(self, x):\n",
    "    return x + self.layers(x)\n",
    "\n",
    "class CNNClassifier(nn.Module):\n",
    "  def __init__(self, in_channels = 1, cnn_channels = 1, linear_hidden = 500, n_classes = 10, kernel_size = (3, 3)):\n",
    "    super().__init__()\n",
    "\n",
    "    \n",
    "    self.cnn_layers = nn.Sequential(\n",
    "        cnn_block(in_channels, cnn_channels, kernel_size),\n",
    "        cnn_block(in_channels, cnn_channels, kernel_size),\n",
    "        cnn_block(in_channels, cnn_channels, kernel_size))\n",
    "\n",
    "\n",
    "    self.down_sample = nn.Conv2d(in_channels = in_channels, out_channels = 1, kernel_size = (1, 1))\n",
    "\n",
    "    self.linear_layers = nn.Sequential(\n",
    "        linear_block(28*28, linear_hidden),\n",
    "        linear_block(28*28, linear_hidden)\n",
    "    )\n",
    "    self.last_layer = nn.Linear(28*28, n_classes)\n",
    "\n",
    "    self.all        = nn.Sequential(\n",
    "        self.cnn_layers,\n",
    "        self.down_sample,\n",
    "        nn.Flatten(),\n",
    "        self.linear_layers,\n",
    "        self.last_layer,\n",
    "    )\n",
    "\n",
    "  def forward(self, x):\n",
    "    return self.all(x)"
   ]
  },
  {
   "cell_type": "code",
   "execution_count": 10,
   "metadata": {},
   "outputs": [],
   "source": [
    "#train cnn\n",
    "\n",
    "#training \n",
    "def train_cnn(model, train_loader, val_loader, optimizer, criterion, epochs=5, device='cpu'):\n",
    "    model.to(device)\n",
    "    for epoch in range(epochs):\n",
    "        model.train()\n",
    "        train_loss = 0.0\n",
    "        val_loss = 0.0\n",
    "        correct = 0\n",
    "        total = 0\n",
    "\n",
    "        for batch in tqdm(train_loader, desc=f\"Epoch {epoch + 1}/ {epochs}\", unit=\"batch\"):\n",
    "            inputs, labels = batch['data'].to(device), batch['label'].to(device)\n",
    "\n",
    "            optimizer.zero_grad()\n",
    "            outputs = model(inputs)\n",
    "            loss = criterion(outputs, labels)\n",
    "            loss.backward()\n",
    "            optimizer.step()\n",
    "\n",
    "            train_loss += loss.item()\n",
    "            _, predicted = torch.max(outputs, 1)\n",
    "            total += labels.size(0)\n",
    "            correct += (predicted == labels).sum().item()\n",
    "\n",
    "        train_loss /= len(train_loader)\n",
    "        train_acc = correct / total\n",
    "\n",
    "        # Validation loop\n",
    "        model.eval()\n",
    "        with torch.no_grad():\n",
    "            for batch in val_loader:\n",
    "                inputs, labels = batch['data'].to(device), batch['label'].to(device)\n",
    "                outputs = model(inputs)\n",
    "                loss = criterion(outputs, labels)\n",
    "                val_loss += loss.item()\n",
    "\n",
    "        val_loss /= len(val_loader)\n",
    "\n",
    "        print(f\"Epoch {epoch + 1}/{epochs}, Train Loss: {train_loss:.4f}, Train Accuracy: {train_acc:.4f}, Validation Loss: {val_loss:.4f}\")\n"
   ]
  },
  {
   "cell_type": "code",
   "execution_count": 11,
   "metadata": {},
   "outputs": [],
   "source": [
    "device = torch.device(\"cuda\" if torch.cuda.is_available() else \"cpu\")\n",
    "\n",
    "def validate(model, val_loader):\n",
    "    model.eval()\n",
    "    true_labels = []\n",
    "    predicted_labels = []\n",
    "\n",
    "    with torch.no_grad():\n",
    "        for batch in val_loader:\n",
    "            inputs, labels = batch['data'].to(device), batch['label'].to(device)\n",
    "            outputs = model(inputs)\n",
    "            _, predicted = torch.max(outputs, 1)\n",
    "\n",
    "            true_labels.extend(labels.cpu().numpy())\n",
    "            predicted_labels.extend(predicted.cpu().numpy())\n",
    "\n",
    "    true_labels = np.array(true_labels)\n",
    "    predicted_labels = np.array(predicted_labels)\n",
    "\n",
    "    f1 = f1_score(true_labels, predicted_labels, average='macro')\n",
    "    return f1"
   ]
  },
  {
   "cell_type": "code",
   "execution_count": 12,
   "metadata": {},
   "outputs": [],
   "source": [
    "#split the data into training and validation sets with 80-20 split\n",
    "batch_size = 64\n",
    "validation_size = 0.2\n",
    "train_loader, val_loader = get_data_loaders(\"data/x_train_wr.npy\", \"data/y_train.csv\", batch_size=batch_size, validation_size=validation_size)"
   ]
  },
  {
   "cell_type": "markdown",
   "metadata": {},
   "source": [
    "The next portion of the code tries out different hyperparams by training different models on a small subset of the training data (1/5 of the training data) for only 3 epochs. It takes a bit to run, but after expirementing, {'cnn_channels': 3, 'linear_hidden': 25, 'kernel_size': (5, 5)} TENDS to work the best (although other hyperparams are close) with an F1 score of roughly .94 (which is pretty good considering it's only training on a small subset of the total data). If you want to check my hyperparam comparision, you can simply change the variable below to True to run this process. Otherwise, we simply default to the previously described hyperparams."
   ]
  },
  {
   "cell_type": "code",
   "execution_count": 13,
   "metadata": {},
   "outputs": [],
   "source": [
    "waste_a_lot_of_time = True"
   ]
  },
  {
   "cell_type": "code",
   "execution_count": 14,
   "metadata": {},
   "outputs": [],
   "source": [
    "#get a smaller dataset for hyperparam comparisons \n",
    "hyper_loader, hyper_val_loader = get_data_loaders(\"data/x_train_wr.npy\", \"data/y_train.csv\", batch_size=batch_size, validation_size=.8) #thus we train on .2 of given data"
   ]
  },
  {
   "cell_type": "code",
   "execution_count": 15,
   "metadata": {},
   "outputs": [
    {
     "name": "stdout",
     "output_type": "stream",
     "text": [
      "Training model: cnn_channels=2, linear_hidden=25, kernel_size=(3, 3)\n"
     ]
    },
    {
     "name": "stderr",
     "output_type": "stream",
     "text": [
      "Epoch 1/ 3:   0%|          | 0/188 [00:00<?, ?batch/s]"
     ]
    },
    {
     "name": "stderr",
     "output_type": "stream",
     "text": [
      "Epoch 1/ 3: 100%|██████████| 188/188 [00:07<00:00, 24.58batch/s]\n"
     ]
    },
    {
     "name": "stdout",
     "output_type": "stream",
     "text": [
      "Epoch 1/3, Train Loss: 0.7344, Train Accuracy: 0.7732, Validation Loss: 0.3110\n"
     ]
    },
    {
     "name": "stderr",
     "output_type": "stream",
     "text": [
      "Epoch 2/ 3: 100%|██████████| 188/188 [00:06<00:00, 29.45batch/s]\n"
     ]
    },
    {
     "name": "stdout",
     "output_type": "stream",
     "text": [
      "Epoch 2/3, Train Loss: 0.3263, Train Accuracy: 0.8991, Validation Loss: 0.2660\n"
     ]
    },
    {
     "name": "stderr",
     "output_type": "stream",
     "text": [
      "Epoch 3/ 3: 100%|██████████| 188/188 [00:05<00:00, 33.76batch/s]\n"
     ]
    },
    {
     "name": "stdout",
     "output_type": "stream",
     "text": [
      "Epoch 3/3, Train Loss: 0.2719, Train Accuracy: 0.9143, Validation Loss: 0.2163\n",
      "Validation F1 for cnn_channels=2, linear_hidden=25, kernel_size=(3, 3): 0.933068204276496\n",
      "Training model: cnn_channels=2, linear_hidden=25, kernel_size=(5, 5)\n"
     ]
    },
    {
     "name": "stderr",
     "output_type": "stream",
     "text": [
      "Epoch 1/ 3: 100%|██████████| 188/188 [00:06<00:00, 27.45batch/s]\n"
     ]
    },
    {
     "name": "stdout",
     "output_type": "stream",
     "text": [
      "Epoch 1/3, Train Loss: 1.1764, Train Accuracy: 0.6155, Validation Loss: 0.4005\n"
     ]
    },
    {
     "name": "stderr",
     "output_type": "stream",
     "text": [
      "Epoch 2/ 3: 100%|██████████| 188/188 [00:06<00:00, 29.30batch/s]\n"
     ]
    },
    {
     "name": "stdout",
     "output_type": "stream",
     "text": [
      "Epoch 2/3, Train Loss: 0.3610, Train Accuracy: 0.8867, Validation Loss: 0.2645\n"
     ]
    },
    {
     "name": "stderr",
     "output_type": "stream",
     "text": [
      "Epoch 3/ 3: 100%|██████████| 188/188 [00:06<00:00, 26.92batch/s]\n"
     ]
    },
    {
     "name": "stdout",
     "output_type": "stream",
     "text": [
      "Epoch 3/3, Train Loss: 0.2665, Train Accuracy: 0.9161, Validation Loss: 0.2153\n",
      "Validation F1 for cnn_channels=2, linear_hidden=25, kernel_size=(5, 5): 0.9316791189641777\n",
      "Training model: cnn_channels=2, linear_hidden=50, kernel_size=(3, 3)\n"
     ]
    },
    {
     "name": "stderr",
     "output_type": "stream",
     "text": [
      "Epoch 1/ 3: 100%|██████████| 188/188 [00:06<00:00, 30.76batch/s]\n"
     ]
    },
    {
     "name": "stdout",
     "output_type": "stream",
     "text": [
      "Epoch 1/3, Train Loss: 0.8485, Train Accuracy: 0.7270, Validation Loss: 0.3144\n"
     ]
    },
    {
     "name": "stderr",
     "output_type": "stream",
     "text": [
      "Epoch 2/ 3: 100%|██████████| 188/188 [00:06<00:00, 31.17batch/s]\n"
     ]
    },
    {
     "name": "stdout",
     "output_type": "stream",
     "text": [
      "Epoch 2/3, Train Loss: 0.3521, Train Accuracy: 0.8838, Validation Loss: 0.2761\n"
     ]
    },
    {
     "name": "stderr",
     "output_type": "stream",
     "text": [
      "Epoch 3/ 3: 100%|██████████| 188/188 [00:06<00:00, 31.33batch/s]\n"
     ]
    },
    {
     "name": "stdout",
     "output_type": "stream",
     "text": [
      "Epoch 3/3, Train Loss: 0.2850, Train Accuracy: 0.9084, Validation Loss: 0.1978\n",
      "Validation F1 for cnn_channels=2, linear_hidden=50, kernel_size=(3, 3): 0.9366197255230408\n",
      "Training model: cnn_channels=2, linear_hidden=50, kernel_size=(5, 5)\n"
     ]
    },
    {
     "name": "stderr",
     "output_type": "stream",
     "text": [
      "Epoch 1/ 3: 100%|██████████| 188/188 [00:06<00:00, 26.98batch/s]\n"
     ]
    },
    {
     "name": "stdout",
     "output_type": "stream",
     "text": [
      "Epoch 1/3, Train Loss: 0.9097, Train Accuracy: 0.7059, Validation Loss: 0.3857\n"
     ]
    },
    {
     "name": "stderr",
     "output_type": "stream",
     "text": [
      "Epoch 2/ 3: 100%|██████████| 188/188 [00:06<00:00, 27.01batch/s]\n"
     ]
    },
    {
     "name": "stdout",
     "output_type": "stream",
     "text": [
      "Epoch 2/3, Train Loss: 0.3792, Train Accuracy: 0.8815, Validation Loss: 0.2735\n"
     ]
    },
    {
     "name": "stderr",
     "output_type": "stream",
     "text": [
      "Epoch 3/ 3: 100%|██████████| 188/188 [00:07<00:00, 26.37batch/s]\n"
     ]
    },
    {
     "name": "stdout",
     "output_type": "stream",
     "text": [
      "Epoch 3/3, Train Loss: 0.3038, Train Accuracy: 0.9072, Validation Loss: 0.2502\n",
      "Validation F1 for cnn_channels=2, linear_hidden=50, kernel_size=(5, 5): 0.9231755762296862\n",
      "Training model: cnn_channels=3, linear_hidden=25, kernel_size=(3, 3)\n"
     ]
    },
    {
     "name": "stderr",
     "output_type": "stream",
     "text": [
      "Epoch 1/ 3: 100%|██████████| 188/188 [00:06<00:00, 31.25batch/s]\n"
     ]
    },
    {
     "name": "stdout",
     "output_type": "stream",
     "text": [
      "Epoch 1/3, Train Loss: 0.7474, Train Accuracy: 0.7630, Validation Loss: 0.3258\n"
     ]
    },
    {
     "name": "stderr",
     "output_type": "stream",
     "text": [
      "Epoch 2/ 3: 100%|██████████| 188/188 [00:06<00:00, 31.21batch/s]\n"
     ]
    },
    {
     "name": "stdout",
     "output_type": "stream",
     "text": [
      "Epoch 2/3, Train Loss: 0.3402, Train Accuracy: 0.8931, Validation Loss: 0.2557\n"
     ]
    },
    {
     "name": "stderr",
     "output_type": "stream",
     "text": [
      "Epoch 3/ 3: 100%|██████████| 188/188 [00:06<00:00, 30.60batch/s]\n"
     ]
    },
    {
     "name": "stdout",
     "output_type": "stream",
     "text": [
      "Epoch 3/3, Train Loss: 0.2614, Train Accuracy: 0.9193, Validation Loss: 0.2128\n",
      "Validation F1 for cnn_channels=3, linear_hidden=25, kernel_size=(3, 3): 0.9358380432730025\n",
      "Training model: cnn_channels=3, linear_hidden=25, kernel_size=(5, 5)\n"
     ]
    },
    {
     "name": "stderr",
     "output_type": "stream",
     "text": [
      "Epoch 1/ 3: 100%|██████████| 188/188 [00:07<00:00, 26.35batch/s]\n"
     ]
    },
    {
     "name": "stdout",
     "output_type": "stream",
     "text": [
      "Epoch 1/3, Train Loss: 0.5987, Train Accuracy: 0.8087, Validation Loss: 0.3303\n"
     ]
    },
    {
     "name": "stderr",
     "output_type": "stream",
     "text": [
      "Epoch 2/ 3: 100%|██████████| 188/188 [00:07<00:00, 25.94batch/s]\n"
     ]
    },
    {
     "name": "stdout",
     "output_type": "stream",
     "text": [
      "Epoch 2/3, Train Loss: 0.2972, Train Accuracy: 0.9066, Validation Loss: 0.2212\n"
     ]
    },
    {
     "name": "stderr",
     "output_type": "stream",
     "text": [
      "Epoch 3/ 3: 100%|██████████| 188/188 [00:08<00:00, 23.41batch/s]\n"
     ]
    },
    {
     "name": "stdout",
     "output_type": "stream",
     "text": [
      "Epoch 3/3, Train Loss: 0.2248, Train Accuracy: 0.9295, Validation Loss: 0.2182\n",
      "Validation F1 for cnn_channels=3, linear_hidden=25, kernel_size=(5, 5): 0.9300554272582321\n",
      "Training model: cnn_channels=3, linear_hidden=50, kernel_size=(3, 3)\n"
     ]
    },
    {
     "name": "stderr",
     "output_type": "stream",
     "text": [
      "Epoch 1/ 3: 100%|██████████| 188/188 [00:07<00:00, 24.25batch/s]\n"
     ]
    },
    {
     "name": "stdout",
     "output_type": "stream",
     "text": [
      "Epoch 1/3, Train Loss: 1.2359, Train Accuracy: 0.5887, Validation Loss: 0.3975\n"
     ]
    },
    {
     "name": "stderr",
     "output_type": "stream",
     "text": [
      "Epoch 2/ 3: 100%|██████████| 188/188 [00:07<00:00, 24.45batch/s]\n"
     ]
    },
    {
     "name": "stdout",
     "output_type": "stream",
     "text": [
      "Epoch 2/3, Train Loss: 0.3579, Train Accuracy: 0.8844, Validation Loss: 0.2654\n"
     ]
    },
    {
     "name": "stderr",
     "output_type": "stream",
     "text": [
      "Epoch 3/ 3: 100%|██████████| 188/188 [00:06<00:00, 30.56batch/s]\n"
     ]
    },
    {
     "name": "stdout",
     "output_type": "stream",
     "text": [
      "Epoch 3/3, Train Loss: 0.2803, Train Accuracy: 0.9115, Validation Loss: 0.2305\n",
      "Validation F1 for cnn_channels=3, linear_hidden=50, kernel_size=(3, 3): 0.92653722375222\n",
      "Training model: cnn_channels=3, linear_hidden=50, kernel_size=(5, 5)\n"
     ]
    },
    {
     "name": "stderr",
     "output_type": "stream",
     "text": [
      "Epoch 1/ 3: 100%|██████████| 188/188 [00:07<00:00, 23.76batch/s]\n"
     ]
    },
    {
     "name": "stdout",
     "output_type": "stream",
     "text": [
      "Epoch 1/3, Train Loss: 0.7957, Train Accuracy: 0.7362, Validation Loss: 0.2790\n"
     ]
    },
    {
     "name": "stderr",
     "output_type": "stream",
     "text": [
      "Epoch 2/ 3: 100%|██████████| 188/188 [00:07<00:00, 25.38batch/s]\n"
     ]
    },
    {
     "name": "stdout",
     "output_type": "stream",
     "text": [
      "Epoch 2/3, Train Loss: 0.3079, Train Accuracy: 0.9035, Validation Loss: 0.1972\n"
     ]
    },
    {
     "name": "stderr",
     "output_type": "stream",
     "text": [
      "Epoch 3/ 3: 100%|██████████| 188/188 [00:07<00:00, 25.66batch/s]\n"
     ]
    },
    {
     "name": "stdout",
     "output_type": "stream",
     "text": [
      "Epoch 3/3, Train Loss: 0.2273, Train Accuracy: 0.9277, Validation Loss: 0.1632\n",
      "Validation F1 for cnn_channels=3, linear_hidden=50, kernel_size=(5, 5): 0.9494603215650365\n",
      "Best Hyperparameters: {'cnn_channels': 3, 'linear_hidden': 50, 'kernel_size': (5, 5)}\n",
      "Best Validation Accuracy: 0.9494603215650365\n"
     ]
    }
   ],
   "source": [
    "#test different hyperparams \n",
    "\n",
    "hyperparameters = {\n",
    "    'cnn_channels': [2, 3],  # Vary the number of channels in the CNN layers\n",
    "    'linear_hidden': [25, 50],  # Vary the number of hidden units in linear layers\n",
    "    'kernel_size': [(3, 3), (5, 5)]  # Vary the kernel size of the convolutional layers\n",
    "}\n",
    "\n",
    "# Perform hyperparameter tuning\n",
    "best_f1 = 0.0\n",
    "best_hyperparameters = {}\n",
    "if (waste_a_lot_of_time):\n",
    "    for cnn_channels in hyperparameters['cnn_channels']:\n",
    "        for linear_hidden in hyperparameters['linear_hidden']:\n",
    "            for kernel_size in hyperparameters['kernel_size']:\n",
    "                print(f\"Training model: cnn_channels={cnn_channels}, linear_hidden={linear_hidden}, kernel_size={kernel_size}\")\n",
    "                model = CNNClassifier(cnn_channels=cnn_channels, linear_hidden=linear_hidden, kernel_size=kernel_size)\n",
    "                optimizer = optim.Adam(model.parameters(), lr=0.001)\n",
    "                criterion = nn.CrossEntropyLoss()\n",
    "                train_cnn(model, hyper_loader, hyper_val_loader, optimizer, criterion, epochs=3)\n",
    "                val_accuracy = validate(model, hyper_val_loader)\n",
    "                print(f\"Validation F1 for cnn_channels={cnn_channels}, linear_hidden={linear_hidden}, kernel_size={kernel_size}: {val_accuracy}\")\n",
    "                if val_accuracy > best_f1:\n",
    "                    best_f1 = val_accuracy\n",
    "                    best_hyperparameters = {'cnn_channels': cnn_channels, 'linear_hidden': linear_hidden, 'kernel_size': kernel_size}\n",
    "else: \n",
    "    best_hyperparameters = {'cnn_channels': 3, 'linear_hidden': 25, 'kernel_size': (5, 5)}\n",
    "\n",
    "print(\"Best Hyperparameters:\", best_hyperparameters)\n",
    "print(\"Best Validation Accuracy:\", best_f1)"
   ]
  },
  {
   "cell_type": "code",
   "execution_count": 16,
   "metadata": {},
   "outputs": [
    {
     "name": "stderr",
     "output_type": "stream",
     "text": [
      "Epoch 1/ 5:   0%|          | 0/750 [00:00<?, ?batch/s]"
     ]
    },
    {
     "name": "stderr",
     "output_type": "stream",
     "text": [
      "Epoch 1/ 5: 100%|██████████| 750/750 [00:30<00:00, 24.44batch/s]\n"
     ]
    },
    {
     "name": "stdout",
     "output_type": "stream",
     "text": [
      "Epoch 1/5, Train Loss: 0.5380, Train Accuracy: 0.8301, Validation Loss: 0.2232\n"
     ]
    },
    {
     "name": "stderr",
     "output_type": "stream",
     "text": [
      "Epoch 2/ 5: 100%|██████████| 750/750 [00:32<00:00, 23.02batch/s]\n"
     ]
    },
    {
     "name": "stdout",
     "output_type": "stream",
     "text": [
      "Epoch 2/5, Train Loss: 0.2321, Train Accuracy: 0.9310, Validation Loss: 0.1806\n"
     ]
    },
    {
     "name": "stderr",
     "output_type": "stream",
     "text": [
      "Epoch 3/ 5: 100%|██████████| 750/750 [00:35<00:00, 21.18batch/s]\n"
     ]
    },
    {
     "name": "stdout",
     "output_type": "stream",
     "text": [
      "Epoch 3/5, Train Loss: 0.1940, Train Accuracy: 0.9401, Validation Loss: 0.1547\n"
     ]
    },
    {
     "name": "stderr",
     "output_type": "stream",
     "text": [
      "Epoch 4/ 5: 100%|██████████| 750/750 [00:40<00:00, 18.66batch/s]\n"
     ]
    },
    {
     "name": "stdout",
     "output_type": "stream",
     "text": [
      "Epoch 4/5, Train Loss: 0.1740, Train Accuracy: 0.9474, Validation Loss: 0.1352\n"
     ]
    },
    {
     "name": "stderr",
     "output_type": "stream",
     "text": [
      "Epoch 5/ 5: 100%|██████████| 750/750 [00:37<00:00, 19.94batch/s]\n"
     ]
    },
    {
     "name": "stdout",
     "output_type": "stream",
     "text": [
      "Epoch 5/5, Train Loss: 0.1601, Train Accuracy: 0.9509, Validation Loss: 0.1382\n"
     ]
    }
   ],
   "source": [
    "#train model with selected hyperparams\n",
    "best_model = CNNClassifier(cnn_channels=best_hyperparameters['cnn_channels'], linear_hidden=best_hyperparameters['linear_hidden'], kernel_size=best_hyperparameters['kernel_size'])\n",
    "optimizer = optim.Adam(best_model.parameters(), lr=0.001)\n",
    "criterion = nn.CrossEntropyLoss()\n",
    "train_cnn(best_model, train_loader, val_loader, optimizer, criterion)"
   ]
  },
  {
   "cell_type": "code",
   "execution_count": 17,
   "metadata": {},
   "outputs": [],
   "source": [
    "def get_test_loader(data_file, batch_size=64):\n",
    "    test_dataset = CustomDataset(data_file, is_test=True)\n",
    "    test_loader = DataLoader(\n",
    "        test_dataset,\n",
    "        batch_size=batch_size,\n",
    "        shuffle=False \n",
    "    )\n",
    "    return test_loader\n",
    "\n",
    "test_data_loader = get_test_loader(\"data/x_test_wr.npy\")"
   ]
  },
  {
   "cell_type": "code",
   "execution_count": 18,
   "metadata": {},
   "outputs": [],
   "source": [
    "#get predicted labels\n",
    "best_model.eval()  # set the mode to eval\n",
    "predicted_labels = []\n",
    "confidence_scores = []\n",
    "\n",
    "with torch.no_grad():\n",
    "    for batch in test_data_loader:\n",
    "        inputs = batch['data'].to(device)  \n",
    "        outputs = best_model(inputs)\n",
    "        probabilities = nn.functional.softmax(outputs, dim=1)\n",
    "        _, predicted = torch.max(outputs, 1)\n",
    "        predicted_labels.extend(predicted.cpu().numpy())\n",
    "        confidence_scores.extend(probabilities.gather(1, predicted.view(-1, 1)).squeeze().cpu().numpy()) #only add the highest confidence score, or the score of the predicted label\n",
    "\n",
    "# Convert predictions to numpy array\n",
    "predicted_labels = np.array(predicted_labels)\n",
    "confidence_scores = np.array(confidence_scores)"
   ]
  },
  {
   "cell_type": "markdown",
   "metadata": {},
   "source": []
  },
  {
   "cell_type": "code",
   "execution_count": 19,
   "metadata": {},
   "outputs": [],
   "source": [
    "best_cnn_model = best_model"
   ]
  },
  {
   "cell_type": "code",
   "execution_count": 40,
   "metadata": {},
   "outputs": [
    {
     "name": "stdout",
     "output_type": "stream",
     "text": [
      "(60000, 507)\n"
     ]
    }
   ],
   "source": [
    "#now we will make a model that predicts the label based on the spoken audio\n",
    "\n",
    "#get the data\n",
    "audio_training_data = np.load(\"data/x_train_sp.npy\")\n",
    "print(audio_training_data.shape)"
   ]
  },
  {
   "cell_type": "code",
   "execution_count": 41,
   "metadata": {},
   "outputs": [],
   "source": [
    "#define our model, we will use a simple RNN-style model to predict labels based on our audio\n",
    "class RNNBlock(nn.Module):\n",
    "    def __init__(self, input_size, hidden_size, num_layers=1, dropout=0):\n",
    "        super(RNNBlock, self).__init__()\n",
    "        self.rnn = nn.RNN(input_size=input_size, hidden_size=hidden_size, num_layers=num_layers, dropout=dropout, batch_first=True)\n",
    "        self.dropout = nn.Dropout(dropout)\n",
    "\n",
    "    def forward(self, x):\n",
    "        out, _ = self.rnn(x)\n",
    "        out = self.dropout(out)\n",
    "        return out\n",
    "\n",
    "class LinearBlock(nn.Module):\n",
    "    def __init__(self, input_size, output_size):\n",
    "        super(LinearBlock, self).__init__()\n",
    "        self.linear = nn.Linear(input_size, output_size)\n",
    "        self.relu = nn.ReLU()\n",
    "        self.dropout = nn.Dropout(0.2)\n",
    "\n",
    "    def forward(self, x):\n",
    "        out = self.linear(x)\n",
    "        out = self.relu(out)\n",
    "        out = self.dropout(out)\n",
    "        return out\n",
    "    \n",
    "    \n",
    "class RNNClassifier(nn.Module):\n",
    "    def __init__(self, input_size, hidden_size, num_layers, linear_hidden, num_classes):\n",
    "        super(RNNClassifier, self).__init__()\n",
    "        self.rnn_layers = RNNBlock(input_size=input_size, hidden_size=hidden_size, num_layers=num_layers)\n",
    "        self.linear_layers = nn.Sequential(\n",
    "            LinearBlock(hidden_size, linear_hidden),\n",
    "            LinearBlock(linear_hidden, linear_hidden)\n",
    "        )\n",
    "        self.output_layer = nn.Linear(linear_hidden, num_classes)\n",
    "        \n",
    "\n",
    "    def forward(self, x):\n",
    "        out = self.rnn_layers(x)\n",
    "        out = self.linear_layers(out)\n",
    "        out = self.output_layer(out)\n",
    "        return out"
   ]
  },
  {
   "cell_type": "code",
   "execution_count": 42,
   "metadata": {},
   "outputs": [
    {
     "name": "stdout",
     "output_type": "stream",
     "text": [
      "Old shape:507\n",
      "New shape: 520\n"
     ]
    }
   ],
   "source": [
    "print(\"Old shape:\" + str(audio_training_data.shape[1]))\n",
    "\n",
    "#change the length of each sample from 507 to 520 (a more convenient size for our model) by padding each sample with 0s at the end\n",
    "audio_training_data = np.pad(audio_training_data, ((0, 0), (0, 13)), mode='constant') \n",
    "\n",
    "#convert into tensors\n",
    "audio_training_data_tens = torch.from_numpy(audio_training_data).float()\n",
    "training_labels_tens = torch.from_numpy(np.array(training_labels)).long()\n",
    "\n",
    "print(\"New shape: \" + str(audio_training_data.shape[1]))\n"
   ]
  },
  {
   "cell_type": "code",
   "execution_count": 45,
   "metadata": {},
   "outputs": [
    {
     "name": "stdout",
     "output_type": "stream",
     "text": [
      "epoch 1 ...\n",
      "Epoch 1/5, Loss: 2.3057, Accuracy: 0.0924\n",
      "epoch 1 ...\n",
      "Epoch 2/5, Loss: 2.3060, Accuracy: 0.0925\n",
      "epoch 1 ...\n",
      "Epoch 3/5, Loss: 2.3057, Accuracy: 0.0936\n",
      "epoch 1 ...\n",
      "Epoch 4/5, Loss: 2.3057, Accuracy: 0.0928\n",
      "epoch 1 ...\n",
      "Epoch 5/5, Loss: 2.3058, Accuracy: 0.0927\n",
      "Finished Training\n"
     ]
    }
   ],
   "source": [
    "rnn_model = RNNClassifier(520, 128, 2, 256, 10)\n",
    "criterion = nn.CrossEntropyLoss()\n",
    "optimizer = optim.SGD(model.parameters(), lr=.01, momentum=.9)\n",
    "\n",
    "num_epochs = 5\n",
    "batch_size = 32\n",
    "\n",
    "for epoch in range(num_epochs):\n",
    "    print(\"epoch 1 ...\")\n",
    "    running_loss = 0.0\n",
    "    running_accuracy = 0.0\n",
    "    total_samples = 0\n",
    "\n",
    "    for i in range(0, len(audio_training_data_tens), batch_size):\n",
    "        inputs = audio_training_data_tens[i:i+batch_size]\n",
    "        target_labels = training_labels_tens[i:i+batch_size]\n",
    "\n",
    "        optimizer.zero_grad()\n",
    "        outputs = rnn_model(inputs)\n",
    "        loss = criterion(outputs, target_labels)\n",
    "\n",
    "        _, predicted = torch.max(outputs.data, 1)\n",
    "        total_samples += target_labels.size(0)\n",
    "        running_accuracy += (predicted == target_labels).sum().item()\n",
    "\n",
    "        loss.backward()\n",
    "        optimizer.step()\n",
    "\n",
    "        running_loss += loss.item()\n",
    "\n",
    "    epoch_loss = running_loss / (len(audio_training_data_tens) / batch_size)\n",
    "    epoch_accuracy = running_accuracy / total_samples\n",
    "\n",
    "    print(f'Epoch {epoch+1}/{num_epochs}, Loss: {epoch_loss:.4f}, Accuracy: {epoch_accuracy:.4f}')\n",
    "\n",
    "print('Finished Training')"
   ]
  },
  {
   "cell_type": "code",
   "execution_count": null,
   "metadata": {},
   "outputs": [],
   "source": [
    "#save predictions\n",
    "predictions_df = pd.DataFrame({'row_id': np.array([i for i in range(len(predicted_labels))]), 'label': predicted_labels.flatten()})\n",
    "predictions_df.to_csv('Caleb Elizondo preds.csv', index=False)"
   ]
  }
 ],
 "metadata": {
  "kernelspec": {
   "display_name": "Python 3",
   "language": "python",
   "name": "python3"
  },
  "language_info": {
   "codemirror_mode": {
    "name": "ipython",
    "version": 3
   },
   "file_extension": ".py",
   "mimetype": "text/x-python",
   "name": "python",
   "nbconvert_exporter": "python",
   "pygments_lexer": "ipython3",
   "version": "3.11.9"
  }
 },
 "nbformat": 4,
 "nbformat_minor": 2
}
